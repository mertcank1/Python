{
  "nbformat": 4,
  "nbformat_minor": 0,
  "metadata": {
    "colab": {
      "provenance": []
    },
    "kernelspec": {
      "name": "python3",
      "display_name": "Python 3"
    },
    "language_info": {
      "name": "python"
    }
  },
  "cells": [
    {
      "cell_type": "code",
      "execution_count": 18,
      "metadata": {
        "colab": {
          "base_uri": "https://localhost:8080/"
        },
        "id": "NSfN3g0HrD6g",
        "outputId": "b9170e09-9a13-43a0-d80b-a88c39ee0d65"
      },
      "outputs": [
        {
          "output_type": "stream",
          "name": "stdout",
          "text": [
            "400 Kelvinni Celcius değeri= 126.85000000000002\n"
          ]
        }
      ],
      "source": [
        "kelvin = 400\n",
        "sayi= 273.15\n",
        "sonuc = kelvin - sayi\n",
        "print('400 Kelvinni Celcius değeri= ' + str(sonuc))"
      ]
    },
    {
      "cell_type": "code",
      "source": [
        "r = 1.5\n",
        "pi = 3.14\n",
        "alan = pi*r**2\n",
        "print('Alan= ' + str(alan))\n",
        "cevre = 2*pi*r\n",
        "print('Çevre= ' + str(cevre))"
      ],
      "metadata": {
        "colab": {
          "base_uri": "https://localhost:8080/"
        },
        "id": "fHMayvFjtUZh",
        "outputId": "8969e923-92b5-4864-a8d7-932a3fdc6b56"
      },
      "execution_count": 20,
      "outputs": [
        {
          "output_type": "stream",
          "name": "stdout",
          "text": [
            "Alan= 7.065\n",
            "Çevre= 9.42\n"
          ]
        }
      ]
    },
    {
      "cell_type": "code",
      "source": [
        "sayi = int(input(print('4 Basamaklı bir sayi giriniz; ')))\n",
        "binlerbasamagi = sayi // 1000\n",
        "birlerbasamagi = sayi % 10\n",
        "\n",
        "toplam = binlerbasamagi + birlerbasamagi\n",
        "print('İlk basamak ve Son basamaktaki sayiların toplami: ' + str(int(toplam)))"
      ],
      "metadata": {
        "colab": {
          "base_uri": "https://localhost:8080/"
        },
        "id": "28lucJV5uo5E",
        "outputId": "862bc6cb-8945-4217-b2f0-606c3b274e85"
      },
      "execution_count": 49,
      "outputs": [
        {
          "output_type": "stream",
          "name": "stdout",
          "text": [
            "4 Basamaklı bir sayi giriniz; \n",
            "None3456\n",
            "İlk basamak ve Son basamaktaki sayiların toplami: 9\n"
          ]
        }
      ]
    },
    {
      "cell_type": "code",
      "source": [
        "hız = 110\n",
        "yol = 500\n",
        "sure = yol / hız\n",
        "\n",
        "print(f'Süre; {sure:.2f}')"
      ],
      "metadata": {
        "colab": {
          "base_uri": "https://localhost:8080/"
        },
        "id": "6hslHB0KyhXl",
        "outputId": "ec3b1c4b-8e10-4d69-8253-b64bcf52e6c1"
      },
      "execution_count": 44,
      "outputs": [
        {
          "output_type": "stream",
          "name": "stdout",
          "text": [
            "Süre; 4.55\n"
          ]
        }
      ]
    }
  ]
}
