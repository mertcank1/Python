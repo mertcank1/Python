print("-> 400 derece Kelvin ısısını celcius derecesine çevirip alan formatında gösteriniz.")
kelvin = 400
celsius = float(kelvin - 273.15)
print(f'Sonuç: {celsius:.2f}' )

print("-> Yarıçapı 1.5 cm olan bir dairenin alanını ve çevresini bulan ve sonucu görüntüleyen bir program yazınız. pi = 3.14")
p = 3.14
r = 1.5
alan = prr
çevre = 2pr
print(f'Alan: {alan:2f}')
print(f'Çevre: {çevre}')

print("-> Dört basamaklı bir sayının ilk ve son basamağının toplamını bulan bir program yazınız.")
sayı = int(input("Dört basamaklı bir sayı giriniz: "))

ilk = sayı % 10
son = sayı // sayı
toplam = ilk + son

print(f'İlk: {ilk}')
print(f'son: {son}')
print(f'Toplam: {toplam}')

print("-> Bir araba saatte 110km hızda 500km yol kat ettiğine göre, bu yolu kaç saat ve dakikada gideceğini hesaplayan program yazın.")
#x = v*t
x = 500
v = 110
t = x / v
print(f'Araba {int(t)} saat {int((t - int(t))*60)} dakika yol yapmıştır.')

